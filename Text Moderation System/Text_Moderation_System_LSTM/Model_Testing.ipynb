{
 "cells": [
  {
   "cell_type": "code",
   "execution_count": 8,
   "id": "b0b5c5b4",
   "metadata": {},
   "outputs": [
    {
     "name": "stderr",
     "output_type": "stream",
     "text": [
      "WARNING:absl:Compiled the loaded model, but the compiled metrics have yet to be built. `model.compile_metrics` will be empty until you train or evaluate the model.\n"
     ]
    },
    {
     "name": "stdout",
     "output_type": "stream",
     "text": [
      "\u001b[1m1/1\u001b[0m \u001b[32m━━━━━━━━━━━━━━━━━━━━\u001b[0m\u001b[37m\u001b[0m \u001b[1m0s\u001b[0m 490ms/step\n",
      "[\"Incorrect DiscI love the style of this, but after a couple years, the DVD is giving me problems. It doesn't even work anymore and I use my broken PS2 Now. I wouldn't recommend this, I'm just going to upgrade to a recorder now. I wish it would work but I guess i'm giving up on JVC. I really did like this one... before it stopped working. The dvd player gave me problems probably after a year of having it.\"]\n",
      "Prediction: negative\n",
      "Prediction Score: 0.7815560698509216\n"
     ]
    }
   ],
   "source": [
    "import numpy as np\n",
    "import pickle\n",
    "from tensorflow.keras.models import load_model\n",
    "\n",
    "# Load the saved model\n",
    "loaded_model = load_model('saved_model/text_moderation_model.h5')\n",
    "\n",
    "# Load the saved tokenizer\n",
    "with open('saved_model/tokenizer.pkl', 'rb') as f:\n",
    "    loaded_tokenizer = pickle.load(f)\n",
    "\n",
    "# sample sentence\n",
    "new_texts = [\"Incorrect DiscI love the style of this, but after a couple years, the DVD is giving me problems. It doesn't even work anymore and I use my broken PS2 Now. I wouldn't recommend this, I'm just going to upgrade to a recorder now. I wish it would work but I guess i'm giving up on JVC. I really did like this one... before it stopped working. The dvd player gave me problems probably after a year of having it.\"]\n",
    "\n",
    "# Tokenize and preprocess the text\n",
    "encoded_inputs = loaded_tokenizer(\n",
    "    new_texts,\n",
    "    max_length=10,  # Use the same max_length as during training\n",
    "    padding='max_length',\n",
    "    truncation=True,\n",
    "    return_tensors='tf'\n",
    ")\n",
    "\n",
    "\n",
    "\n",
    "X_test_ids_new = np.array(encoded_inputs['input_ids'], dtype=np.int32)\n",
    "X_attention_mask_new = np.array(encoded_inputs['attention_mask'], dtype=np.int32)\n",
    "\n",
    "# Predict using the loaded model\n",
    "predictions = loaded_model.predict([X_test_ids_new, X_attention_mask_new])\n",
    "\n",
    "# Convert prediction to \"negative\" or \"positive\"\n",
    "threshold = 0.5  # Typical threshold for binary classification\n",
    "prediction_label = [\"negative\" if pred > threshold else \"positive\" for pred in predictions]\n",
    "\n",
    "print(new_texts)\n",
    "print(f\"Prediction: {prediction_label[0]}\")\n",
    "print(f\"Prediction Score: {predictions[0][0]}\")\n"
   ]
  },
  {
   "cell_type": "code",
   "execution_count": null,
   "id": "2e22c597",
   "metadata": {},
   "outputs": [],
   "source": []
  }
 ],
 "metadata": {
  "kernelspec": {
   "display_name": "Python 3 (ipykernel)",
   "language": "python",
   "name": "python3"
  },
  "language_info": {
   "codemirror_mode": {
    "name": "ipython",
    "version": 3
   },
   "file_extension": ".py",
   "mimetype": "text/x-python",
   "name": "python",
   "nbconvert_exporter": "python",
   "pygments_lexer": "ipython3",
   "version": "3.10.9"
  }
 },
 "nbformat": 4,
 "nbformat_minor": 5
}
